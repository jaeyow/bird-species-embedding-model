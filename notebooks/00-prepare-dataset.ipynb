{
 "cells": [
  {
   "cell_type": "code",
   "execution_count": 1,
   "metadata": {},
   "outputs": [
    {
     "name": "stdout",
     "output_type": "stream",
     "text": [
      "Python 3.10.14\n"
     ]
    }
   ],
   "source": [
    "! python --version"
   ]
  },
  {
   "cell_type": "markdown",
   "metadata": {},
   "source": [
    "## Copy Random 50 bird species for a cut-down dataset"
   ]
  },
  {
   "cell_type": "code",
   "execution_count": 11,
   "metadata": {},
   "outputs": [
    {
     "name": "stdout",
     "output_type": "stream",
     "text": [
      "done\n"
     ]
    }
   ],
   "source": [
    "import os\n",
    "import shutil\n",
    "import random\n",
    "\n",
    "bird_all = \"../kaggle_data/bird-all\"\n",
    "bird_fifty = \"../kaggle_data/bird-fifty\"\n",
    "\n",
    "if not os.path.exists(bird_fifty):\n",
    "    os.makedirs(bird_fifty)\n",
    "\n",
    "all_species = [bird for bird in os.listdir(f'{bird_all}/train') if bird != \".DS_Store\"]\n",
    "selected_species = random.sample(all_species, min(50, len(all_species)))\n",
    "\n",
    "for folder in ['train', 'test', 'valid']:\n",
    "    if not os.path.exists(f'{bird_fifty}/{folder}'):\n",
    "        os.makedirs(f'{bird_fifty}/{folder}')\n",
    "    \n",
    "    for bird in selected_species:\n",
    "        if not os.path.exists(f'{bird_fifty}/{folder}/{bird}'):\n",
    "            os.makedirs(f'{bird_fifty}/{folder}/{bird}')\n",
    "        \n",
    "        bird_path = f'{bird_all}/{folder}/{bird}'\n",
    "        bird_images = [item for item in os.listdir(bird_path) if item != \".DS_Store\"]\n",
    "        \n",
    "        for image in bird_images:\n",
    "            shutil.copy(f'{bird_all}/{folder}/{bird}/{image}', f'{bird_fifty}/{folder}/{bird}/{image}')\n",
    "            \n",
    "print('done')"
   ]
  },
  {
   "cell_type": "code",
   "execution_count": null,
   "metadata": {},
   "outputs": [],
   "source": []
  }
 ],
 "metadata": {
  "kernelspec": {
   "display_name": "bird-species-env",
   "language": "python",
   "name": "python3"
  },
  "language_info": {
   "codemirror_mode": {
    "name": "ipython",
    "version": 3
   },
   "file_extension": ".py",
   "mimetype": "text/x-python",
   "name": "python",
   "nbconvert_exporter": "python",
   "pygments_lexer": "ipython3",
   "version": "3.10.14"
  }
 },
 "nbformat": 4,
 "nbformat_minor": 2
}
